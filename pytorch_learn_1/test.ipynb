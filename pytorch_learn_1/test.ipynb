{
 "cells": [
  {
   "cell_type": "code",
   "execution_count": null,
   "metadata": {},
   "outputs": [],
   "source": [
    "import torch\n",
    "\n",
    "def pagerank(adjacency_matrix, damping_factor=0.85, max_iterations=100, epsilon=1e-8):\n",
    "    num_nodes = adjacency_matrix.shape[0]\n",
    "    \n",
    "    # Khởi tạo giá trị ban đầu của pagerank\n",
    "    pagerank_vector = torch.ones(num_nodes) / num_nodes\n",
    "\n",
    "    for _ in range(max_iterations):\n",
    "        # Cập nhật giá trị pagerank\n",
    "        new_pagerank = (1 - damping_factor) / num_nodes + damping_factor * torch.matmul(adjacency_matrix, pagerank_vector)\n",
    "        \n",
    "        # Kiểm tra điều kiện dừng\n",
    "        if torch.sum(torch.abs(new_pagerank - pagerank_vector)) < epsilon:\n",
    "            break\n",
    "        \n",
    "        pagerank_vector = new_pagerank\n",
    "\n",
    "    return pagerank_vector\n",
    "\n",
    "# Ví dụ về cấu trúc liên kết giữa các trang web (ma trận kề)\n",
    "# Giả sử có 3 trang web và ma trận kề như sau:\n",
    "# [[0, 1, 0],\n",
    "#  [1, 0, 1],\n",
    "#  [1, 1, 0]]\n",
    "adjacency_matrix = torch.tensor([[0, 1, 0], [1, 0, 1], [1, 1, 0]], dtype=torch.float32)\n",
    "\n",
    "# Gọi hàm pagerank\n",
    "result = pagerank(adjacency_matrix)\n",
    "\n",
    "# In kết quả\n",
    "print(\"Pagerank:\", result)\n"
   ]
  }
 ],
 "metadata": {
  "language_info": {
   "name": "python"
  }
 },
 "nbformat": 4,
 "nbformat_minor": 2
}
